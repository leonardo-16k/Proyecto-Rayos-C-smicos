{
 "cells": [
  {
   "cell_type": "markdown",
   "id": "c773dd86",
   "metadata": {},
   "source": [
    "# Notebook para cálculos"
   ]
  },
  {
   "cell_type": "code",
   "execution_count": null,
   "id": "feb86770",
   "metadata": {
    "vscode": {
     "languageId": "plaintext"
    }
   },
   "outputs": [],
   "source": []
  }
 ],
 "metadata": {
  "language_info": {
   "name": "python"
  }
 },
 "nbformat": 4,
 "nbformat_minor": 5
}
