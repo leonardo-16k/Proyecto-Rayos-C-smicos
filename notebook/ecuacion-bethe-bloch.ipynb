{
 "cells": [
  {
   "cell_type": "markdown",
   "id": "c773dd86",
   "metadata": {},
   "source": [
    "# Notebook para cálculos"
   ]
  },
  {
   "cell_type": "code",
   "execution_count": null,
   "id": "feb86770",
   "metadata": {},
   "outputs": [],
   "source": [
    "import matplotlib.pyplot as plt\n",
    "import numpy as np\n",
    "import pandas as pd\n",
    "import sympy as sp\n",
    "import scipy as sc"
   ]
  },
  {
   "cell_type": "markdown",
   "id": "362b6f0c",
   "metadata": {},
   "source": [
    "Hola \n"
   ]
  }
 ],
 "metadata": {
  "kernelspec": {
   "display_name": "Proyecto-Rayos-C-smicos (3.13.5)",
   "language": "python",
   "name": "python3"
  },
  "language_info": {
   "codemirror_mode": {
    "name": "ipython",
    "version": 3
   },
   "file_extension": ".py",
   "mimetype": "text/x-python",
   "name": "python",
   "nbconvert_exporter": "python",
   "pygments_lexer": "ipython3",
   "version": "3.13.5"
  }
 },
 "nbformat": 4,
 "nbformat_minor": 5
}
