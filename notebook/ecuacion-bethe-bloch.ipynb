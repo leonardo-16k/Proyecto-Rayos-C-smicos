{
 "cells": [
  {
   "cell_type": "markdown",
   "id": "c773dd86",
   "metadata": {},
   "source": [
    "# Implementación Numérica de la Ecuación de Bethe-Bloch"
   ]
  },
  {
   "cell_type": "markdown",
   "id": "ccb1b9ab",
   "metadata": {},
   "source": [
    "## 1. Cinemática Relativista\n",
    "\n",
    "El primer paso es calcular los factores cinemáticos relativistas, gamma ($\\gamma$) y beta ($\\beta$), para una partícula con una energía cinética dada $T$ y una masa en reposo $m_0$. Las relaciones fundamentales son:\n",
    "\n",
    "$$ E_{\\text{total}} = T + m_0c^2 $$\n",
    "$$ E_{\\text{total}} = \\gamma m_0c^2 $$\n",
    "\n",
    "Igualando ambas expresiones para la energía total, podemos despejar $\\gamma$:\n",
    "\n",
    "$$ \\gamma = \\frac{T}{m_0c^2} + 1 $$\n",
    "\n",
    "A partir de la definición de $\\gamma = (1 - \\beta^2)^{-1/2}$, podemos despejar $\\beta$:\n",
    "\n",
    "$$ \\beta = \\sqrt{1 - \\frac{1}{\\gamma^2}} $$\n",
    "\n",
    "La siguiente función en Python implementa estos cálculos."
   ]
  },
  {
   "cell_type": "code",
   "execution_count": 16,
   "id": "feb86770",
   "metadata": {},
   "outputs": [],
   "source": [
    "import matplotlib.pyplot as plt\n",
    "import numpy as np\n",
    "import pandas as pd\n",
    "import sympy as sp\n",
    "import scipy as sc\n",
    "\n",
    "M_PROTON_MEV_C2 = 938.272\n",
    "M_MUON_MEV_C2 = 105.658\n",
    "\n",
    "def calculate_kinematics(T_MeV, mass_MeV_c2):\n",
    "    gamma = (T_MeV + mass_MeV_c2) / mass_MeV_c2\n",
    "    beta = np.sqrt(1 - (mass_MeV_c2 / (T_MeV + mass_MeV_c2))**2)\n",
    "    return beta, gamma"
   ]
  },
  {
   "cell_type": "markdown",
   "id": "fe57bc0a",
   "metadata": {},
   "source": [
    "Para asegurar que nuestra función `calculate_kinematics` esta bien, la probamos con dos casos extremos:"
   ]
  },
  {
   "cell_type": "code",
   "execution_count": null,
   "id": "fdf266c2",
   "metadata": {},
   "outputs": [
    {
     "name": "stdout",
     "output_type": "stream",
     "text": [
      "Protón de Baja Energía (0.1 MeV)\n",
      "Gamma: 1.000107 (Esperado: cercano a 1)\n",
      "Beta:  0.014599 (Esperado: pequeño, << 1)\n",
      "Protón de Alta Energía (1000 MeV)\n",
      "Gamma: 2.065789\n",
      "Beta:  0.875026 (Esperado: cercano a 1)\n"
     ]
    }
   ],
   "source": [
    "T_proton_low = 0.1  \n",
    "beta_p_low, gamma_p_low = calculate_kinematics(T_proton_low, M_PROTON_MEV_C2)\n",
    "\n",
    "print(\"Protón de Baja Energía (0.1 MeV)\")\n",
    "print(f\"Gamma: {gamma_p_low:.6f} (Esperado: cercano a 1)\")\n",
    "print(f\"Beta:  {beta_p_low:.6f} (Esperado: pequeño, << 1)\")\n",
    "\n",
    "T_proton_high = 1000  \n",
    "beta_p_high, gamma_p_high = calculate_kinematics(T_proton_high, M_PROTON_MEV_C2)\n",
    "\n",
    "print(\"Protón de Alta Energía (1000 MeV)\")\n",
    "print(f\"Gamma: {gamma_p_high:.6f}\")\n",
    "print(f\"Beta:  {beta_p_high:.6f} (Esperado: cercano a 1)\")"
   ]
  },
  {
   "cell_type": "code",
   "execution_count": 19,
   "id": "d8b3ecec",
   "metadata": {},
   "outputs": [],
   "source": [
    "M_ELECTRON_MEV_C2 = 0.511 # Masa del electrón en MeV/c^2\n",
    "\n",
    "def bethe_bloch_stopping_power(T_MeV, z, particle_mass_MeV_c2, material):\n",
    "     beta, gamma = calculate_kinematics(T_MeV, particle_mass_MeV_c2)"
   ]
  },
  {
   "cell_type": "markdown",
   "id": "2f2d02d7",
   "metadata": {},
   "source": []
  }
 ],
 "metadata": {
  "kernelspec": {
   "display_name": "base",
   "language": "python",
   "name": "python3"
  },
  "language_info": {
   "codemirror_mode": {
    "name": "ipython",
    "version": 3
   },
   "file_extension": ".py",
   "mimetype": "text/x-python",
   "name": "python",
   "nbconvert_exporter": "python",
   "pygments_lexer": "ipython3",
   "version": "3.13.5"
  }
 },
 "nbformat": 4,
 "nbformat_minor": 5
}
